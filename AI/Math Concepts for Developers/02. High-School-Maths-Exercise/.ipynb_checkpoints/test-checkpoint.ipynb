{
 "cells": [
  {
   "cell_type": "markdown",
   "metadata": {},
   "source": [
    "equation of a line: $$ y = ax + b $$"
   ]
  },
  {
   "cell_type": "markdown",
   "metadata": {},
   "source": [
    "Roots of the quadratic equasion $ax^2 + bc + c = 0$ :              \n",
    "$ x_1,_2 = {\\frac{-b \\pm \\sqrt{b^2 - 4ac}}{2a}}$\n",
    "\n"
   ]
  },
  {
   "cell_type": "markdown",
   "metadata": {},
   "source": [
    "Taylor series expansion: \n",
    "\n",
    "$$ f(x)|_x=_a = f(a) + f1^\\prime(a)(x-a) + \\frac{f^{\\prime}{'}(a)}{2!}(x-a)^2 + {\\dots} + \\frac{f^{(n)}(a)}{n!}(x - a)^n + {\\dots} $$"
   ]
  },
  {
   "cell_type": "markdown",
   "metadata": {},
   "source": [
    "Binomial theorem: $$ (x + y)^n = \\binom{n}{0}x^ny^0 + \\binom{n}{1}x^1y^{n-1} + {\\dots} + \\binom{n}{n}y^0y^n = \\sum_{k=0}^{n}\\binom{n}{k}x^{n-k}y^k $$"
   ]
  },
  {
   "cell_type": "markdown",
   "metadata": {},
   "source": [
    "An integral: $$\\int_{-\\infty}^{+\\infty} e^{-x^2}dx = \\sqrt{\\pi}$$"
   ]
  },
  {
   "cell_type": "markdown",
   "metadata": {},
   "source": [
    "A short matrix: $$\n",
    "\\begin{pmatrix} \n",
    "2 & 1 & 3\\\\\n",
    "2 & 6 & 8\\\\\n",
    "6 & 8 & 18\n",
    "\\end{pmatrix}\n",
    "$$"
   ]
  },
  {
   "cell_type": "code",
   "execution_count": null,
   "metadata": {},
   "outputs": [],
   "source": []
  }
 ],
 "metadata": {
  "kernelspec": {
   "display_name": "Python 3",
   "language": "python",
   "name": "python3"
  },
  "language_info": {
   "codemirror_mode": {
    "name": "ipython",
    "version": 3
   },
   "file_extension": ".py",
   "mimetype": "text/x-python",
   "name": "python",
   "nbconvert_exporter": "python",
   "pygments_lexer": "ipython3",
   "version": "3.7.1"
  }
 },
 "nbformat": 4,
 "nbformat_minor": 2
}
