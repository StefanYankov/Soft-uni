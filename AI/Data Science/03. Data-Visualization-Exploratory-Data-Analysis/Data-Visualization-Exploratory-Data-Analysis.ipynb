{
 "cells": [
  {
   "cell_type": "code",
   "execution_count": 2,
   "metadata": {},
   "outputs": [],
   "source": [
    "%matplotlib inline"
   ]
  },
  {
   "cell_type": "code",
   "execution_count": 81,
   "metadata": {},
   "outputs": [],
   "source": [
    "import numpy as np\n",
    "import matplotlib.pyplot as plt\n",
    "import pandas as pd"
   ]
  },
  {
   "cell_type": "code",
   "execution_count": 27,
   "metadata": {},
   "outputs": [
    {
     "data": {
      "image/png": "[encoded data removed]",
      "text/plain": [
       "<Figure size 432x288 with 1 Axes>"
      ]
     },
     "metadata": {},
     "output_type": "display_data"
    }
   ],
   "source": [
    "#labeling axis\n",
    "x= [8,3,5]; y = [3,4,5]\n",
    "plt.scatter(x,y)\n",
    "plt.title(\"title\")\n",
    "plt.xlabel(\"x-label\")\n",
    "plt.ylabel(\"y-label\")\n",
    "plt.show()"
   ]
  },
  {
   "cell_type": "code",
   "execution_count": 29,
   "metadata": {},
   "outputs": [
    {
     "data": {
      "text/plain": [
       "[<matplotlib.lines.Line2D at 0x1e1c94974e0>]"
      ]
     },
     "execution_count": 29,
     "metadata": {},
     "output_type": "execute_result"
    },
    {
     "data": {
      "image/png": "[encoded data removed]",
      "text/plain": [
       "<Figure size 432x288 with 1 Axes>"
      ]
     },
     "metadata": {},
     "output_type": "display_data"
    }
   ],
   "source": [
    "x = np.linspace(-2 * np.pi, 2 * np.pi, 2000)\n",
    "y = np.sin(x)\n",
    "plt.plot(x, y)\n",
    "#plt.show() if %matplotlib inline is not used"
   ]
  },
  {
   "cell_type": "code",
   "execution_count": 34,
   "metadata": {},
   "outputs": [
    {
     "data": {
      "text/plain": [
       "array([10,  2, 10,  9,  4,  9,  1,  2,  8,  5,  8,  9,  2,  6,  2,  2, 10,\n",
       "        4,  6,  9,  7,  9, 10,  2,  5,  7,  5,  3,  1, 10,  5, 10,  1,  8,\n",
       "        7,  3, 10,  4,  9,  3,  3,  4,  2,  1,  7,  3,  4,  2,  2,  6,  4,\n",
       "        3,  5,  5,  2,  7,  6,  7,  5,  7,  4,  9,  8,  9,  1,  1,  3,  2,\n",
       "        5,  1,  4,  7,  2, 10,  5,  9,  7,  8,  2,  3,  6,  7,  2,  6,  2,\n",
       "        3,  4,  7,  2,  6,  4,  3,  8, 10,  2,  3,  7, 10,  8,  5,  7,  2,\n",
       "        6,  4,  9,  1,  5,  6,  3,  7,  7, 10,  8,  6,  1,  8,  3,  6, 10,\n",
       "        5,  5, 10,  4,  3,  1,  4,  4,  1,  9,  5,  2,  2,  9,  4,  8,  1,\n",
       "        9,  4,  9,  3, 10,  5,  9,  7,  7,  8,  9,  3,  3,  2,  5, 10, 10,\n",
       "        2,  7, 10, 10,  1,  7, 10, 10, 10,  8,  4,  6,  5,  1,  8,  5,  2,\n",
       "        2,  9,  7,  3,  8,  3,  5,  9,  5,  9,  5,  3,  6,  2, 10,  2,  6,\n",
       "        7,  2,  7,  9,  6,  6,  1,  4,  8,  4,  8,  7,  6,  8,  1,  3,  1,\n",
       "        1,  3,  9,  9,  4,  2,  6,  6,  3,  6, 10, 10,  7, 10,  9,  3,  2,\n",
       "       10,  4,  2,  6,  4,  2,  4,  6,  9,  2,  9,  3,  9,  2,  1,  9,  7,\n",
       "        5,  5,  4,  3,  7,  6, 10,  8,  2,  8,  9,  2, 10,  7, 10,  3,  4,\n",
       "        5,  4,  6,  9,  3,  8,  4, 10,  5,  9,  4,  1,  6, 10,  3,  5,  6,\n",
       "        9,  6,  6,  9, 10,  2,  4,  9, 10,  8,  6,  1, 10,  1,  5,  8,  7,\n",
       "        5,  6,  8, 10,  3, 10,  8,  4,  7,  5,  7,  6,  2,  4,  6,  8,  2,\n",
       "        3,  5,  8,  3,  4,  2,  8,  3, 10,  2,  9,  1, 10,  9,  8,  3,  9,\n",
       "        9,  2,  7,  3, 10,  4,  7,  9,  9,  2,  4,  3, 10,  7,  5,  1,  6,\n",
       "        1,  7,  3,  2, 10,  1,  9,  9,  7,  8,  3,  9,  6,  1, 10,  9,  6,\n",
       "        5,  4,  4,  9,  3,  1,  2,  5,  6,  6,  4,  9,  6,  1,  7,  8,  9,\n",
       "        3,  7,  9,  2,  7,  8,  1,  7,  1,  4,  9, 10,  2, 10,  4,  3,  8,\n",
       "        9,  4,  1,  1,  5,  6,  4,  2,  5,  8,  9,  6, 10,  7,  8,  9,  2,\n",
       "        7,  2,  2,  9,  8,  7,  7,  4,  8, 10,  4, 10,  4,  6,  9, 10,  6,\n",
       "        8,  1,  9,  6,  1,  9, 10,  5,  7,  4,  3,  5,  6,  3,  6,  8,  5,\n",
       "        2,  4,  8,  1,  1,  5,  5,  4, 10,  6,  9, 10, 10,  7,  5,  9,  5,\n",
       "        3,  5,  7,  4,  1,  5,  3,  8,  8,  4,  7,  3,  2,  5,  5,  5,  2,\n",
       "        3,  1,  2,  5,  9,  3,  1,  1,  2,  1,  9,  4,  3,  2,  3,  2,  5,\n",
       "        7, 10,  9,  3,  3,  7,  5,  7,  3,  9,  9,  8,  2,  3,  3,  1,  5,\n",
       "        6,  7,  2,  7,  3, 10,  8,  7,  9,  4,  5,  7,  9,  9,  4,  3,  6,\n",
       "        6,  6,  6,  9,  6, 10,  3,  7,  5,  5,  5,  1,  9,  4, 10,  3,  9,\n",
       "        7,  8,  1, 10,  3,  7,  7,  1,  3,  4,  3,  5,  8,  5,  6,  6,  5,\n",
       "        6, 10,  8,  1,  1,  2,  1,  4,  2,  1,  8,  4,  2,  3,  3,  3,  8,\n",
       "        8,  1,  8,  5,  7,  3,  7,  4,  8,  4,  6,  4,  5,  8,  3,  9,  5,\n",
       "        6,  5,  1,  8,  1, 10,  1,  8, 10,  9,  4,  5,  3,  3,  4,  2,  1,\n",
       "        8,  6,  8,  2,  3,  1,  6,  7,  3,  5, 10,  2,  6, 10,  1,  4,  9,\n",
       "        5,  3,  9,  1,  4,  9,  4,  5, 10, 10,  5,  4,  6,  3, 10,  1,  2,\n",
       "        4,  5,  7,  4,  6,  9,  9,  7,  5,  6,  9,  2,  7,  6,  6,  3,  8,\n",
       "        5,  2,  5,  2,  6,  8,  9,  8,  6,  3,  6,  3,  6,  8,  8,  2,  6,\n",
       "        8, 10,  1,  2,  7,  9,  5, 10,  5,  2,  8,  7, 10,  2,  9,  1,  2,\n",
       "        3,  4,  4,  8, 10,  2,  4,  4,  5,  7,  1,  1,  3,  7,  4,  6,  2,\n",
       "        7,  4,  4,  6,  3,  5,  8, 10,  1,  4,  8,  2,  4,  4,  9,  3,  8,\n",
       "        9,  5,  2,  1,  7,  3, 10, 10,  8, 10,  8,  5,  4,  9,  6,  9,  2,\n",
       "        5,  7,  9,  8,  8,  7,  1,  8,  6,  3,  1,  9, 10,  9,  2, 10,  3,\n",
       "        4,  4,  9,  4,  6,  7,  1,  9,  7,  4,  2,  3,  4,  2,  9, 10,  7,\n",
       "        9,  6,  3,  2,  9,  9, 10,  8,  1,  9,  2,  1,  1, 10,  4, 10,  2,\n",
       "        3,  7,  8,  1,  5,  1,  3,  1,  5,  8,  4,  5,  9,  3,  4, 10,  2,\n",
       "        2,  6,  2,  2,  3,  4,  5,  8,  7,  8,  9, 10,  2,  6,  6,  9,  9,\n",
       "        2,  3,  4,  7,  8,  5,  3,  4,  3,  6, 10,  8,  8,  6,  2,  6,  4,\n",
       "        1,  2,  5,  3,  7,  7, 10,  2,  9,  5,  8, 10,  8,  7, 10,  2,  8,\n",
       "       10,  8, 10,  1,  7,  1,  4,  9,  9,  7, 10,  8,  6,  9,  3,  2,  2,\n",
       "        6,  5, 10,  5,  6,  1,  1,  9,  7,  5,  3,  6,  5, 10,  4,  7,  7,\n",
       "        8,  3,  7,  1,  3,  1,  3,  5,  1,  9,  7,  2,  7,  8,  3,  6,  8,\n",
       "        9,  8,  9,  7,  7,  7,  5,  6,  3,  7,  1,  2,  2,  1,  7,  1, 10,\n",
       "        2,  6,  2, 10,  2,  7,  9, 10,  8,  3,  7,  6,  4,  7,  2,  4,  5,\n",
       "        4, 10,  6,  8,  5,  9,  9,  2,  1,  5,  9,  3, 10,  3,  6,  4, 10,\n",
       "        4,  4, 10,  9,  5,  2,  1,  6,  6,  4,  8,  2,  8,  2,  7,  8,  6,\n",
       "       10,  5,  4,  3,  4,  7, 10, 10,  7,  8,  6,  8,  6,  7])"
      ]
     },
     "execution_count": 34,
     "metadata": {},
     "output_type": "execute_result"
    }
   ],
   "source": [
    "random_numbers = np.random.randint(1, 11, 1000)\n",
    "random_numbers"
   ]
  },
  {
   "cell_type": "code",
   "execution_count": 35,
   "metadata": {},
   "outputs": [
    {
     "data": {
      "image/png": "[encoded data removed]",
      "text/plain": [
       "<Figure size 432x288 with 1 Axes>"
      ]
     },
     "metadata": {},
     "output_type": "display_data"
    }
   ],
   "source": [
    "plt.hist(random_numbers)\n",
    "plt.show()"
   ]
  },
  {
   "cell_type": "code",
   "execution_count": 36,
   "metadata": {},
   "outputs": [
    {
     "data": {
      "text/plain": [
       "{'whiskers': [<matplotlib.lines.Line2D at 0x1e1c964ada0>,\n",
       "  <matplotlib.lines.Line2D at 0x1e1c9653278>],\n",
       " 'caps': [<matplotlib.lines.Line2D at 0x1e1c96536a0>,\n",
       "  <matplotlib.lines.Line2D at 0x1e1c9653ac8>],\n",
       " 'boxes': [<matplotlib.lines.Line2D at 0x1e1c964ac50>],\n",
       " 'medians': [<matplotlib.lines.Line2D at 0x1e1c9653ef0>],\n",
       " 'fliers': [<matplotlib.lines.Line2D at 0x1e1c965c358>],\n",
       " 'means': []}"
      ]
     },
     "execution_count": 36,
     "metadata": {},
     "output_type": "execute_result"
    },
    {
     "data": {
      "image/png": "[encoded data removed]",
      "text/plain": [
       "<Figure size 432x288 with 1 Axes>"
      ]
     },
     "metadata": {},
     "output_type": "display_data"
    }
   ],
   "source": [
    "plt.boxplot(random_numbers)"
   ]
  },
  {
   "cell_type": "code",
   "execution_count": 38,
   "metadata": {},
   "outputs": [
    {
     "data": {
      "image/png": "[encoded data removed]",
      "text/plain": [
       "<Figure size 432x288 with 1 Axes>"
      ]
     },
     "metadata": {},
     "output_type": "display_data"
    }
   ],
   "source": [
    "sizes = [15, 30, 45, 10]\n",
    "plt.pie(sizes, labels = [\"Frogs\", \n",
    "    \"Hogs\", \"Dogs\", \"Logs\"])\n",
    "# Make the plot look circular\n",
    "plt.gca().set_aspect(\"equal\")"
   ]
  },
  {
   "cell_type": "code",
   "execution_count": 45,
   "metadata": {},
   "outputs": [
    {
     "data": {
      "text/html": [
       "<div>\n",
       "<style scoped>\n",
       "    .dataframe tbody tr th:only-of-type {\n",
       "        vertical-align: middle;\n",
       "    }\n",
       "\n",
       "    .dataframe tbody tr th {\n",
       "        vertical-align: top;\n",
       "    }\n",
       "\n",
       "    .dataframe thead th {\n",
       "        text-align: right;\n",
       "    }\n",
       "</style>\n",
       "<table border=\"1\" class=\"dataframe\">\n",
       "  <thead>\n",
       "    <tr style=\"text-align: right;\">\n",
       "      <th></th>\n",
       "      <th>Unnamed: 0</th>\n",
       "      <th>cost</th>\n",
       "      <th>date</th>\n",
       "      <th>t1</th>\n",
       "      <th>t2</th>\n",
       "      <th>cap</th>\n",
       "      <th>pr</th>\n",
       "      <th>ne</th>\n",
       "      <th>ct</th>\n",
       "      <th>bw</th>\n",
       "      <th>cum.n</th>\n",
       "      <th>pt</th>\n",
       "    </tr>\n",
       "  </thead>\n",
       "  <tbody>\n",
       "    <tr>\n",
       "      <th>0</th>\n",
       "      <td>1</td>\n",
       "      <td>460.05</td>\n",
       "      <td>68.58</td>\n",
       "      <td>14</td>\n",
       "      <td>46</td>\n",
       "      <td>687</td>\n",
       "      <td>0</td>\n",
       "      <td>1</td>\n",
       "      <td>0</td>\n",
       "      <td>0</td>\n",
       "      <td>14</td>\n",
       "      <td>0</td>\n",
       "    </tr>\n",
       "    <tr>\n",
       "      <th>1</th>\n",
       "      <td>2</td>\n",
       "      <td>452.99</td>\n",
       "      <td>67.33</td>\n",
       "      <td>10</td>\n",
       "      <td>73</td>\n",
       "      <td>1065</td>\n",
       "      <td>0</td>\n",
       "      <td>0</td>\n",
       "      <td>1</td>\n",
       "      <td>0</td>\n",
       "      <td>1</td>\n",
       "      <td>0</td>\n",
       "    </tr>\n",
       "    <tr>\n",
       "      <th>2</th>\n",
       "      <td>3</td>\n",
       "      <td>443.22</td>\n",
       "      <td>67.33</td>\n",
       "      <td>10</td>\n",
       "      <td>85</td>\n",
       "      <td>1065</td>\n",
       "      <td>1</td>\n",
       "      <td>0</td>\n",
       "      <td>1</td>\n",
       "      <td>0</td>\n",
       "      <td>1</td>\n",
       "      <td>0</td>\n",
       "    </tr>\n",
       "    <tr>\n",
       "      <th>3</th>\n",
       "      <td>4</td>\n",
       "      <td>652.32</td>\n",
       "      <td>68.00</td>\n",
       "      <td>11</td>\n",
       "      <td>67</td>\n",
       "      <td>1065</td>\n",
       "      <td>0</td>\n",
       "      <td>1</td>\n",
       "      <td>1</td>\n",
       "      <td>0</td>\n",
       "      <td>12</td>\n",
       "      <td>0</td>\n",
       "    </tr>\n",
       "    <tr>\n",
       "      <th>4</th>\n",
       "      <td>5</td>\n",
       "      <td>642.23</td>\n",
       "      <td>68.00</td>\n",
       "      <td>11</td>\n",
       "      <td>78</td>\n",
       "      <td>1065</td>\n",
       "      <td>1</td>\n",
       "      <td>1</td>\n",
       "      <td>1</td>\n",
       "      <td>0</td>\n",
       "      <td>12</td>\n",
       "      <td>0</td>\n",
       "    </tr>\n",
       "  </tbody>\n",
       "</table>\n",
       "</div>"
      ],
      "text/plain": [
       "   Unnamed: 0    cost   date  t1  t2   cap  pr  ne  ct  bw  cum.n  pt\n",
       "0           1  460.05  68.58  14  46   687   0   1   0   0     14   0\n",
       "1           2  452.99  67.33  10  73  1065   0   0   1   0      1   0\n",
       "2           3  443.22  67.33  10  85  1065   1   0   1   0      1   0\n",
       "3           4  652.32  68.00  11  67  1065   0   1   1   0     12   0\n",
       "4           5  642.23  68.00  11  78  1065   1   1   1   0     12   0"
      ]
     },
     "execution_count": 45,
     "metadata": {},
     "output_type": "execute_result"
    }
   ],
   "source": [
    "nuclear = pd.read_csv(\"https://raw.githubusercontent.com/vincentarelbundock/Rdatasets/master/csv/boot/nuclear.csv\")\n",
    "nuclear.head()"
   ]
  },
  {
   "cell_type": "code",
   "execution_count": 46,
   "metadata": {},
   "outputs": [
    {
     "data": {
      "text/plain": [
       "Unnamed: 0      int64\n",
       "cost          float64\n",
       "date          float64\n",
       "t1              int64\n",
       "t2              int64\n",
       "cap             int64\n",
       "pr              int64\n",
       "ne              int64\n",
       "ct              int64\n",
       "bw              int64\n",
       "cum.n           int64\n",
       "pt              int64\n",
       "dtype: object"
      ]
     },
     "execution_count": 46,
     "metadata": {},
     "output_type": "execute_result"
    }
   ],
   "source": [
    "nuclear.dtypes"
   ]
  },
  {
   "cell_type": "code",
   "execution_count": 47,
   "metadata": {},
   "outputs": [
    {
     "data": {
      "text/plain": [
       "461.5603124999999"
      ]
     },
     "execution_count": 47,
     "metadata": {},
     "output_type": "execute_result"
    }
   ],
   "source": [
    "nuclear[\"cost\"].mean()"
   ]
  },
  {
   "cell_type": "code",
   "execution_count": 48,
   "metadata": {
    "scrolled": true
   },
   "outputs": [
    {
     "data": {
      "text/plain": [
       "[1,\n",
       " 0,\n",
       " 0,\n",
       " 1,\n",
       " 1,\n",
       " 1,\n",
       " 0,\n",
       " 0,\n",
       " 0,\n",
       " 1,\n",
       " 0,\n",
       " 1,\n",
       " 0,\n",
       " 0,\n",
       " 0,\n",
       " 0,\n",
       " 1,\n",
       " 0,\n",
       " 0,\n",
       " 0,\n",
       " 0,\n",
       " 1,\n",
       " 0,\n",
       " 0,\n",
       " 0,\n",
       " 0,\n",
       " 0,\n",
       " 0,\n",
       " 0,\n",
       " 0,\n",
       " 0,\n",
       " 0]"
      ]
     },
     "execution_count": 48,
     "metadata": {},
     "output_type": "execute_result"
    }
   ],
   "source": [
    "nuclear[\"ne\"].values.tolist()"
   ]
  },
  {
   "cell_type": "code",
   "execution_count": 49,
   "metadata": {},
   "outputs": [
    {
     "data": {
      "text/plain": [
       "8"
      ]
     },
     "execution_count": 49,
     "metadata": {},
     "output_type": "execute_result"
    }
   ],
   "source": [
    "nuclear[nuclear[\"ne\"]==1].count()[\"cum.n\"]"
   ]
  },
  {
   "cell_type": "code",
   "execution_count": 50,
   "metadata": {},
   "outputs": [],
   "source": [
    "nuclear.date = nuclear.date.round()"
   ]
  },
  {
   "cell_type": "code",
   "execution_count": 51,
   "metadata": {},
   "outputs": [],
   "source": [
    "nuclear.date = nuclear.date.astype(int)"
   ]
  },
  {
   "cell_type": "code",
   "execution_count": 52,
   "metadata": {
    "scrolled": true
   },
   "outputs": [
    {
     "data": {
      "text/plain": [
       "0     1969\n",
       "1     1967\n",
       "2     1967\n",
       "3     1968\n",
       "4     1968\n",
       "5     1968\n",
       "6     1968\n",
       "7     1968\n",
       "8     1968\n",
       "9     1968\n",
       "10    1969\n",
       "11    1969\n",
       "12    1968\n",
       "13    1969\n",
       "14    1969\n",
       "15    1968\n",
       "16    1970\n",
       "17    1968\n",
       "18    1969\n",
       "19    1969\n",
       "20    1969\n",
       "21    1971\n",
       "22    1970\n",
       "23    1970\n",
       "24    1970\n",
       "25    1971\n",
       "26    1967\n",
       "27    1967\n",
       "28    1968\n",
       "29    1968\n",
       "30    1967\n",
       "31    1968\n",
       "Name: date, dtype: int32"
      ]
     },
     "execution_count": 52,
     "metadata": {},
     "output_type": "execute_result"
    }
   ],
   "source": [
    "nuclear.date += 1900\n",
    "nuclear.date"
   ]
  },
  {
   "cell_type": "code",
   "execution_count": 75,
   "metadata": {},
   "outputs": [
    {
     "data": {
      "text/html": [
       "<div>\n",
       "<style scoped>\n",
       "    .dataframe tbody tr th:only-of-type {\n",
       "        vertical-align: middle;\n",
       "    }\n",
       "\n",
       "    .dataframe tbody tr th {\n",
       "        vertical-align: top;\n",
       "    }\n",
       "\n",
       "    .dataframe thead th {\n",
       "        text-align: right;\n",
       "    }\n",
       "</style>\n",
       "<table border=\"1\" class=\"dataframe\">\n",
       "  <thead>\n",
       "    <tr style=\"text-align: right;\">\n",
       "      <th></th>\n",
       "      <th>cost</th>\n",
       "      <th>date</th>\n",
       "    </tr>\n",
       "  </thead>\n",
       "  <tbody>\n",
       "    <tr>\n",
       "      <th>0</th>\n",
       "      <td>460.05</td>\n",
       "      <td>1969</td>\n",
       "    </tr>\n",
       "    <tr>\n",
       "      <th>1</th>\n",
       "      <td>452.99</td>\n",
       "      <td>1967</td>\n",
       "    </tr>\n",
       "    <tr>\n",
       "      <th>2</th>\n",
       "      <td>443.22</td>\n",
       "      <td>1967</td>\n",
       "    </tr>\n",
       "    <tr>\n",
       "      <th>3</th>\n",
       "      <td>652.32</td>\n",
       "      <td>1968</td>\n",
       "    </tr>\n",
       "    <tr>\n",
       "      <th>4</th>\n",
       "      <td>642.23</td>\n",
       "      <td>1968</td>\n",
       "    </tr>\n",
       "    <tr>\n",
       "      <th>5</th>\n",
       "      <td>345.39</td>\n",
       "      <td>1968</td>\n",
       "    </tr>\n",
       "    <tr>\n",
       "      <th>6</th>\n",
       "      <td>272.37</td>\n",
       "      <td>1968</td>\n",
       "    </tr>\n",
       "    <tr>\n",
       "      <th>7</th>\n",
       "      <td>317.21</td>\n",
       "      <td>1968</td>\n",
       "    </tr>\n",
       "    <tr>\n",
       "      <th>8</th>\n",
       "      <td>457.12</td>\n",
       "      <td>1968</td>\n",
       "    </tr>\n",
       "    <tr>\n",
       "      <th>9</th>\n",
       "      <td>690.19</td>\n",
       "      <td>1968</td>\n",
       "    </tr>\n",
       "    <tr>\n",
       "      <th>10</th>\n",
       "      <td>350.63</td>\n",
       "      <td>1969</td>\n",
       "    </tr>\n",
       "    <tr>\n",
       "      <th>11</th>\n",
       "      <td>402.59</td>\n",
       "      <td>1969</td>\n",
       "    </tr>\n",
       "    <tr>\n",
       "      <th>12</th>\n",
       "      <td>412.18</td>\n",
       "      <td>1968</td>\n",
       "    </tr>\n",
       "    <tr>\n",
       "      <th>13</th>\n",
       "      <td>495.58</td>\n",
       "      <td>1969</td>\n",
       "    </tr>\n",
       "    <tr>\n",
       "      <th>14</th>\n",
       "      <td>394.36</td>\n",
       "      <td>1969</td>\n",
       "    </tr>\n",
       "    <tr>\n",
       "      <th>15</th>\n",
       "      <td>423.32</td>\n",
       "      <td>1968</td>\n",
       "    </tr>\n",
       "    <tr>\n",
       "      <th>16</th>\n",
       "      <td>712.27</td>\n",
       "      <td>1970</td>\n",
       "    </tr>\n",
       "    <tr>\n",
       "      <th>17</th>\n",
       "      <td>289.66</td>\n",
       "      <td>1968</td>\n",
       "    </tr>\n",
       "    <tr>\n",
       "      <th>18</th>\n",
       "      <td>881.24</td>\n",
       "      <td>1969</td>\n",
       "    </tr>\n",
       "    <tr>\n",
       "      <th>19</th>\n",
       "      <td>490.88</td>\n",
       "      <td>1969</td>\n",
       "    </tr>\n",
       "    <tr>\n",
       "      <th>20</th>\n",
       "      <td>567.79</td>\n",
       "      <td>1969</td>\n",
       "    </tr>\n",
       "    <tr>\n",
       "      <th>21</th>\n",
       "      <td>665.99</td>\n",
       "      <td>1971</td>\n",
       "    </tr>\n",
       "    <tr>\n",
       "      <th>22</th>\n",
       "      <td>621.45</td>\n",
       "      <td>1970</td>\n",
       "    </tr>\n",
       "    <tr>\n",
       "      <th>23</th>\n",
       "      <td>608.80</td>\n",
       "      <td>1970</td>\n",
       "    </tr>\n",
       "    <tr>\n",
       "      <th>24</th>\n",
       "      <td>473.64</td>\n",
       "      <td>1970</td>\n",
       "    </tr>\n",
       "    <tr>\n",
       "      <th>25</th>\n",
       "      <td>697.14</td>\n",
       "      <td>1971</td>\n",
       "    </tr>\n",
       "    <tr>\n",
       "      <th>26</th>\n",
       "      <td>207.51</td>\n",
       "      <td>1967</td>\n",
       "    </tr>\n",
       "    <tr>\n",
       "      <th>27</th>\n",
       "      <td>288.48</td>\n",
       "      <td>1967</td>\n",
       "    </tr>\n",
       "    <tr>\n",
       "      <th>28</th>\n",
       "      <td>284.88</td>\n",
       "      <td>1968</td>\n",
       "    </tr>\n",
       "    <tr>\n",
       "      <th>29</th>\n",
       "      <td>280.36</td>\n",
       "      <td>1968</td>\n",
       "    </tr>\n",
       "    <tr>\n",
       "      <th>30</th>\n",
       "      <td>217.38</td>\n",
       "      <td>1967</td>\n",
       "    </tr>\n",
       "    <tr>\n",
       "      <th>31</th>\n",
       "      <td>270.71</td>\n",
       "      <td>1968</td>\n",
       "    </tr>\n",
       "  </tbody>\n",
       "</table>\n",
       "</div>"
      ],
      "text/plain": [
       "      cost  date\n",
       "0   460.05  1969\n",
       "1   452.99  1967\n",
       "2   443.22  1967\n",
       "3   652.32  1968\n",
       "4   642.23  1968\n",
       "5   345.39  1968\n",
       "6   272.37  1968\n",
       "7   317.21  1968\n",
       "8   457.12  1968\n",
       "9   690.19  1968\n",
       "10  350.63  1969\n",
       "11  402.59  1969\n",
       "12  412.18  1968\n",
       "13  495.58  1969\n",
       "14  394.36  1969\n",
       "15  423.32  1968\n",
       "16  712.27  1970\n",
       "17  289.66  1968\n",
       "18  881.24  1969\n",
       "19  490.88  1969\n",
       "20  567.79  1969\n",
       "21  665.99  1971\n",
       "22  621.45  1970\n",
       "23  608.80  1970\n",
       "24  473.64  1970\n",
       "25  697.14  1971\n",
       "26  207.51  1967\n",
       "27  288.48  1967\n",
       "28  284.88  1968\n",
       "29  280.36  1968\n",
       "30  217.38  1967\n",
       "31  270.71  1968"
      ]
     },
     "execution_count": 75,
     "metadata": {},
     "output_type": "execute_result"
    }
   ],
   "source": [
    "nuclear.iloc[:,1:3]"
   ]
  },
  {
   "cell_type": "code",
   "execution_count": 78,
   "metadata": {},
   "outputs": [
    {
     "data": {
      "text/plain": [
       "<matplotlib.axes._subplots.AxesSubplot at 0x27b077ad3c8>"
      ]
     },
     "execution_count": 78,
     "metadata": {},
     "output_type": "execute_result"
    },
    {
     "data": {
      "image/png": "[encoded data removed]",
      "text/plain": [
       "<Figure size 432x288 with 1 Axes>"
      ]
     },
     "metadata": {},
     "output_type": "display_data"
    }
   ],
   "source": [
    "nuclear.plot(kind = \"scatter\", x = \"date\", y = \"cost\")"
   ]
  },
  {
   "cell_type": "code",
   "execution_count": 89,
   "metadata": {},
   "outputs": [
    {
     "data": {
      "text/html": [
       "<div>\n",
       "<style scoped>\n",
       "    .dataframe tbody tr th:only-of-type {\n",
       "        vertical-align: middle;\n",
       "    }\n",
       "\n",
       "    .dataframe tbody tr th {\n",
       "        vertical-align: top;\n",
       "    }\n",
       "\n",
       "    .dataframe thead th {\n",
       "        text-align: right;\n",
       "    }\n",
       "</style>\n",
       "<table border=\"1\" class=\"dataframe\">\n",
       "  <thead>\n",
       "    <tr style=\"text-align: right;\">\n",
       "      <th></th>\n",
       "      <th>Unnamed: 0</th>\n",
       "      <th>cost</th>\n",
       "      <th>date</th>\n",
       "      <th>t1</th>\n",
       "      <th>t2</th>\n",
       "      <th>cap</th>\n",
       "      <th>pr</th>\n",
       "      <th>ne</th>\n",
       "      <th>ct</th>\n",
       "      <th>bw</th>\n",
       "      <th>cum.n</th>\n",
       "      <th>pt</th>\n",
       "    </tr>\n",
       "  </thead>\n",
       "  <tbody>\n",
       "    <tr>\n",
       "      <th>0</th>\n",
       "      <td>1</td>\n",
       "      <td>460.05</td>\n",
       "      <td>1969</td>\n",
       "      <td>14</td>\n",
       "      <td>46</td>\n",
       "      <td>687</td>\n",
       "      <td>0</td>\n",
       "      <td>1</td>\n",
       "      <td>0</td>\n",
       "      <td>0</td>\n",
       "      <td>14</td>\n",
       "      <td>0</td>\n",
       "    </tr>\n",
       "    <tr>\n",
       "      <th>1</th>\n",
       "      <td>2</td>\n",
       "      <td>452.99</td>\n",
       "      <td>1967</td>\n",
       "      <td>10</td>\n",
       "      <td>73</td>\n",
       "      <td>1065</td>\n",
       "      <td>0</td>\n",
       "      <td>0</td>\n",
       "      <td>1</td>\n",
       "      <td>0</td>\n",
       "      <td>1</td>\n",
       "      <td>0</td>\n",
       "    </tr>\n",
       "    <tr>\n",
       "      <th>2</th>\n",
       "      <td>3</td>\n",
       "      <td>443.22</td>\n",
       "      <td>1967</td>\n",
       "      <td>10</td>\n",
       "      <td>85</td>\n",
       "      <td>1065</td>\n",
       "      <td>1</td>\n",
       "      <td>0</td>\n",
       "      <td>1</td>\n",
       "      <td>0</td>\n",
       "      <td>1</td>\n",
       "      <td>0</td>\n",
       "    </tr>\n",
       "    <tr>\n",
       "      <th>3</th>\n",
       "      <td>4</td>\n",
       "      <td>652.32</td>\n",
       "      <td>1968</td>\n",
       "      <td>11</td>\n",
       "      <td>67</td>\n",
       "      <td>1065</td>\n",
       "      <td>0</td>\n",
       "      <td>1</td>\n",
       "      <td>1</td>\n",
       "      <td>0</td>\n",
       "      <td>12</td>\n",
       "      <td>0</td>\n",
       "    </tr>\n",
       "    <tr>\n",
       "      <th>4</th>\n",
       "      <td>5</td>\n",
       "      <td>642.23</td>\n",
       "      <td>1968</td>\n",
       "      <td>11</td>\n",
       "      <td>78</td>\n",
       "      <td>1065</td>\n",
       "      <td>1</td>\n",
       "      <td>1</td>\n",
       "      <td>1</td>\n",
       "      <td>0</td>\n",
       "      <td>12</td>\n",
       "      <td>0</td>\n",
       "    </tr>\n",
       "  </tbody>\n",
       "</table>\n",
       "</div>"
      ],
      "text/plain": [
       "   Unnamed: 0    cost  date  t1  t2   cap  pr  ne  ct  bw  cum.n  pt\n",
       "0           1  460.05  1969  14  46   687   0   1   0   0     14   0\n",
       "1           2  452.99  1967  10  73  1065   0   0   1   0      1   0\n",
       "2           3  443.22  1967  10  85  1065   1   0   1   0      1   0\n",
       "3           4  652.32  1968  11  67  1065   0   1   1   0     12   0\n",
       "4           5  642.23  1968  11  78  1065   1   1   1   0     12   0"
      ]
     },
     "execution_count": 89,
     "metadata": {},
     "output_type": "execute_result"
    }
   ],
   "source": [
    "nuclear.head()"
   ]
  },
  {
   "cell_type": "code",
   "execution_count": 107,
   "metadata": {},
   "outputs": [
    {
     "data": {
      "text/html": [
       "<div>\n",
       "<style scoped>\n",
       "    .dataframe tbody tr th:only-of-type {\n",
       "        vertical-align: middle;\n",
       "    }\n",
       "\n",
       "    .dataframe tbody tr th {\n",
       "        vertical-align: top;\n",
       "    }\n",
       "\n",
       "    .dataframe thead th {\n",
       "        text-align: right;\n",
       "    }\n",
       "</style>\n",
       "<table border=\"1\" class=\"dataframe\">\n",
       "  <thead>\n",
       "    <tr style=\"text-align: right;\">\n",
       "      <th></th>\n",
       "      <th>Unnamed: 0</th>\n",
       "      <th>cost</th>\n",
       "      <th>date</th>\n",
       "      <th>t1</th>\n",
       "      <th>t2</th>\n",
       "      <th>cap</th>\n",
       "      <th>pr</th>\n",
       "      <th>ne</th>\n",
       "      <th>ct</th>\n",
       "      <th>bw</th>\n",
       "      <th>cum.n</th>\n",
       "      <th>pt</th>\n",
       "    </tr>\n",
       "  </thead>\n",
       "  <tbody>\n",
       "    <tr>\n",
       "      <th>2</th>\n",
       "      <td>3</td>\n",
       "      <td>443.22</td>\n",
       "      <td>1967</td>\n",
       "      <td>10</td>\n",
       "      <td>85</td>\n",
       "      <td>1065</td>\n",
       "      <td>1</td>\n",
       "      <td>0</td>\n",
       "      <td>1</td>\n",
       "      <td>0</td>\n",
       "      <td>1</td>\n",
       "      <td>0</td>\n",
       "    </tr>\n",
       "    <tr>\n",
       "      <th>4</th>\n",
       "      <td>5</td>\n",
       "      <td>642.23</td>\n",
       "      <td>1968</td>\n",
       "      <td>11</td>\n",
       "      <td>78</td>\n",
       "      <td>1065</td>\n",
       "      <td>1</td>\n",
       "      <td>1</td>\n",
       "      <td>1</td>\n",
       "      <td>0</td>\n",
       "      <td>12</td>\n",
       "      <td>0</td>\n",
       "    </tr>\n",
       "    <tr>\n",
       "      <th>8</th>\n",
       "      <td>9</td>\n",
       "      <td>457.12</td>\n",
       "      <td>1968</td>\n",
       "      <td>15</td>\n",
       "      <td>55</td>\n",
       "      <td>822</td>\n",
       "      <td>1</td>\n",
       "      <td>0</td>\n",
       "      <td>0</td>\n",
       "      <td>0</td>\n",
       "      <td>5</td>\n",
       "      <td>0</td>\n",
       "    </tr>\n",
       "    <tr>\n",
       "      <th>17</th>\n",
       "      <td>18</td>\n",
       "      <td>289.66</td>\n",
       "      <td>1968</td>\n",
       "      <td>15</td>\n",
       "      <td>76</td>\n",
       "      <td>530</td>\n",
       "      <td>1</td>\n",
       "      <td>0</td>\n",
       "      <td>1</td>\n",
       "      <td>0</td>\n",
       "      <td>2</td>\n",
       "      <td>0</td>\n",
       "    </tr>\n",
       "    <tr>\n",
       "      <th>19</th>\n",
       "      <td>20</td>\n",
       "      <td>490.88</td>\n",
       "      <td>1969</td>\n",
       "      <td>16</td>\n",
       "      <td>59</td>\n",
       "      <td>1050</td>\n",
       "      <td>1</td>\n",
       "      <td>0</td>\n",
       "      <td>0</td>\n",
       "      <td>0</td>\n",
       "      <td>8</td>\n",
       "      <td>0</td>\n",
       "    </tr>\n",
       "    <tr>\n",
       "      <th>21</th>\n",
       "      <td>22</td>\n",
       "      <td>665.99</td>\n",
       "      <td>1971</td>\n",
       "      <td>22</td>\n",
       "      <td>57</td>\n",
       "      <td>828</td>\n",
       "      <td>1</td>\n",
       "      <td>1</td>\n",
       "      <td>0</td>\n",
       "      <td>0</td>\n",
       "      <td>20</td>\n",
       "      <td>0</td>\n",
       "    </tr>\n",
       "    <tr>\n",
       "      <th>23</th>\n",
       "      <td>24</td>\n",
       "      <td>608.80</td>\n",
       "      <td>1970</td>\n",
       "      <td>19</td>\n",
       "      <td>58</td>\n",
       "      <td>821</td>\n",
       "      <td>1</td>\n",
       "      <td>0</td>\n",
       "      <td>0</td>\n",
       "      <td>0</td>\n",
       "      <td>3</td>\n",
       "      <td>0</td>\n",
       "    </tr>\n",
       "    <tr>\n",
       "      <th>29</th>\n",
       "      <td>30</td>\n",
       "      <td>280.36</td>\n",
       "      <td>1968</td>\n",
       "      <td>12</td>\n",
       "      <td>71</td>\n",
       "      <td>886</td>\n",
       "      <td>1</td>\n",
       "      <td>0</td>\n",
       "      <td>0</td>\n",
       "      <td>1</td>\n",
       "      <td>11</td>\n",
       "      <td>1</td>\n",
       "    </tr>\n",
       "    <tr>\n",
       "      <th>30</th>\n",
       "      <td>31</td>\n",
       "      <td>217.38</td>\n",
       "      <td>1967</td>\n",
       "      <td>13</td>\n",
       "      <td>72</td>\n",
       "      <td>745</td>\n",
       "      <td>1</td>\n",
       "      <td>0</td>\n",
       "      <td>0</td>\n",
       "      <td>0</td>\n",
       "      <td>8</td>\n",
       "      <td>1</td>\n",
       "    </tr>\n",
       "    <tr>\n",
       "      <th>31</th>\n",
       "      <td>32</td>\n",
       "      <td>270.71</td>\n",
       "      <td>1968</td>\n",
       "      <td>7</td>\n",
       "      <td>80</td>\n",
       "      <td>886</td>\n",
       "      <td>1</td>\n",
       "      <td>0</td>\n",
       "      <td>0</td>\n",
       "      <td>1</td>\n",
       "      <td>11</td>\n",
       "      <td>1</td>\n",
       "    </tr>\n",
       "  </tbody>\n",
       "</table>\n",
       "</div>"
      ],
      "text/plain": [
       "    Unnamed: 0    cost  date  t1  t2   cap  pr  ne  ct  bw  cum.n  pt\n",
       "2            3  443.22  1967  10  85  1065   1   0   1   0      1   0\n",
       "4            5  642.23  1968  11  78  1065   1   1   1   0     12   0\n",
       "8            9  457.12  1968  15  55   822   1   0   0   0      5   0\n",
       "17          18  289.66  1968  15  76   530   1   0   1   0      2   0\n",
       "19          20  490.88  1969  16  59  1050   1   0   0   0      8   0\n",
       "21          22  665.99  1971  22  57   828   1   1   0   0     20   0\n",
       "23          24  608.80  1970  19  58   821   1   0   0   0      3   0\n",
       "29          30  280.36  1968  12  71   886   1   0   0   1     11   1\n",
       "30          31  217.38  1967  13  72   745   1   0   0   0      8   1\n",
       "31          32  270.71  1968   7  80   886   1   0   0   1     11   1"
      ]
     },
     "execution_count": 107,
     "metadata": {},
     "output_type": "execute_result"
    }
   ],
   "source": [
    "nuclear_filtered = nuclear.loc[nuclear[\"pr\"] == 1]\n",
    "nuclear_filtered"
   ]
  },
  {
   "cell_type": "code",
   "execution_count": 108,
   "metadata": {},
   "outputs": [
    {
     "name": "stdout",
     "output_type": "stream",
     "text": [
      "Max 1065\n"
     ]
    }
   ],
   "source": [
    "print(\"Max\", nuclear_filtered.cap.max())"
   ]
  }
 ],
 "metadata": {
  "kernelspec": {
   "display_name": "Python 3",
   "language": "python",
   "name": "python3"
  },
  "language_info": {
   "codemirror_mode": {
    "name": "ipython",
    "version": 3
   },
   "file_extension": ".py",
   "mimetype": "text/x-python",
   "name": "python",
   "nbconvert_exporter": "python",
   "pygments_lexer": "ipython3",
   "version": "3.6.5"
  }
 },
 "nbformat": 4,
 "nbformat_minor": 2
}
